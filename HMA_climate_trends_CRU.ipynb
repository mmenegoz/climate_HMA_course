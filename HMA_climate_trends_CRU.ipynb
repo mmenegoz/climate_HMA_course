{
 "cells": [
  {
   "cell_type": "markdown",
   "id": "f51dcbe7",
   "metadata": {},
   "source": [
    "**High-Mountain Asia climate analysis based on gridded observations**\n",
    "\n",
    "**Katmandhu course, October, 2022**\n",
    "\n",
    "Topography, temperature"
   ]
  },
  {
   "cell_type": "markdown",
   "id": "e35e777c",
   "metadata": {},
   "source": [
    "**1. Environment**"
   ]
  },
  {
   "cell_type": "code",
   "execution_count": null,
   "id": "96934af5-1143-498b-aca5-a45e0701e72b",
   "metadata": {},
   "outputs": [],
   "source": [
    "import xarray as xr\n",
    "import pandas as pd\n",
    "import numpy as np\n",
    "import calendar as cld\n",
    "import datetime\n",
    "import matplotlib.pyplot as plt\n",
    "import proplot as plot # New plot library (https://proplot.readthedocs.io/en/latest/)\n",
    "plot.rc['savefig.dpi'] = 300 # 1200 is too big! #https://proplot.readthedocs.io/en/latest/basics.html#Creating-figures\n",
    "from scipy import stats\n",
    "import os\n",
    "from tqdm import tqdm"
   ]
  },
  {
   "cell_type": "code",
   "execution_count": null,
   "id": "968c608c",
   "metadata": {},
   "outputs": [],
   "source": [
    "# Where are the data files?\n",
    "path=\"/Users/mmenegoz/cours/nepal/data/data_M2_climat/\" # Put your own path to the data !"
   ]
  },
  {
   "cell_type": "code",
   "execution_count": null,
   "id": "03498fc1",
   "metadata": {},
   "outputs": [],
   "source": [
    "# Domain study: HMA\n",
    "lon1=60;lon2=110\n",
    "lat1=25;lat2=45"
   ]
  },
  {
   "cell_type": "markdown",
   "id": "ad19dd3f",
   "metadata": {},
   "source": [
    "**2. Open temperature data file (CRU)**\n",
    "\n",
    "**or any other data file (e.g. IPSL model)!!!**"
   ]
  },
  {
   "cell_type": "code",
   "execution_count": null,
   "id": "69df479d",
   "metadata": {},
   "outputs": [],
   "source": [
    "# CRU dataset (https://crudata.uea.ac.uk/cru/data/hrg/cru_ts_4.06/cruts.2205201912.v4.06/tmp/cru_ts4.06.1901.2021.tmp.dat.nc.gz)\n",
    "# https://www.nature.com/articles/s41597-020-0453-3\n",
    "# Here we download only a part of the file\n",
    "file='HMA_cru_ts4.06.1901.2021.tmp.dat.nc'\n",
    "ds = xr.open_dataset(os.path.join(path,file))\n",
    "ds # To print the header of the dataset"
   ]
  },
  {
   "cell_type": "markdown",
   "id": "f5111b5c",
   "metadata": {},
   "source": [
    "**3. Extracting regional data and computing seasonal means**"
   ]
  },
  {
   "cell_type": "code",
   "execution_count": null,
   "id": "c417f490",
   "metadata": {},
   "outputs": [],
   "source": [
    "# Extracting the data over HMA\n",
    "longitudes=slice(lon1,lon2)\n",
    "latitudes=slice(lat1,lat2)\n",
    "temp_HMA=ds.sel(lat=latitudes,lon=longitudes)\n",
    "temp_HMA # To print the header of the HMA dataset"
   ]
  },
  {
   "cell_type": "code",
   "execution_count": null,
   "id": "2c5fc59b",
   "metadata": {},
   "outputs": [],
   "source": [
    "# define a function to compute seasonal mean\n",
    "# Taking into account the differet number of days per months\n",
    "def season_mean(ds, calendar=\"standard\"):\n",
    "    # Make a DataArray with the number of days in each month, size = len(time)\n",
    "    month_length = ds.time.dt.days_in_month\n",
    "\n",
    "    # Calculate the weights by grouping by 'time.season'\n",
    "    weights = (\n",
    "        month_length.groupby(\"time.season\") / month_length.groupby(\"time.season\").sum()\n",
    "    )\n",
    "\n",
    "    # Test that the sum of the weights for each season is 1.0\n",
    "    np.testing.assert_allclose(weights.groupby(\"time.season\").sum().values, np.ones(4))\n",
    "\n",
    "    # Calculate the weighted average\n",
    "    return (ds * weights).groupby(\"time.season\").sum(dim=\"time\")"
   ]
  },
  {
   "cell_type": "markdown",
   "id": "9dc46cb6-7399-4eaa-86a8-fea38a3889e6",
   "metadata": {},
   "source": [
    "**Below, you might need to change the name of the variable depending on the data that you use!**\n",
    "\n",
    "**Also, be careful to the unit of the variable!**"
   ]
  },
  {
   "cell_type": "code",
   "execution_count": null,
   "id": "9e9b6d57",
   "metadata": {},
   "outputs": [],
   "source": [
    "# Computing seasonal mean and ordering properly the seasons\n",
    "seasonal_mean=season_mean(temp_HMA.tmp).sortby(xr.DataArray(['DJF','MAM','JJA', 'SON'],dims=['season']))"
   ]
  },
  {
   "cell_type": "code",
   "execution_count": null,
   "id": "3fa541ca",
   "metadata": {},
   "outputs": [],
   "source": [
    "# Levels of temperature for the plot\n",
    "levels=plot.arange(-32,32,2)"
   ]
  },
  {
   "cell_type": "code",
   "execution_count": null,
   "id": "87c5a3b0",
   "metadata": {},
   "outputs": [],
   "source": [
    "# Producing the map of the seasonal mean, excluding the borders of the domain.\n",
    "f, axs = plot.subplots(proj='cyl',ncols=2, nrows=2, share=1, axwidth=5)\n",
    "for i, ax in enumerate(axs):\n",
    "    print('i='+str(i))\n",
    "    print('ax='+str(ax))\n",
    "    m = ax.pcolormesh(\n",
    "        temp_HMA.lon,temp_HMA.lat,\n",
    "        seasonal_mean[i,:,:],\n",
    "        levels=levels,\n",
    "        cmap='coolwarm'\n",
    "    )\n",
    "    ax.format(title=seasonal_mean.season.data[i],titlesize='20px')\n",
    "    \n",
    "f.colorbar(m, label= '°C')\n",
    "\n",
    "axs.format(\n",
    "    gridlinewidth=0.1, gridcolor='gray8', gridalpha=0.5, labels=True, \n",
    "    coast=True, ocean=False, oceancolor='gray3', borders=True,\n",
    "    suptitle=\"Seasonal mean of temperature, CRU observations\",\n",
    "    lonlines=4, latlines=4, abc=False, latlim=[lat1,lat2],lonlim=[lon1,lon2]\n",
    ")"
   ]
  },
  {
   "cell_type": "markdown",
   "id": "eb73dc73",
   "metadata": {},
   "source": [
    "**4. Trends**\n",
    "\n",
    "**Choose the period that you want!**\n",
    "\n",
    "**Be careful to the consistency between the period that you define and the period available in the dataset!**"
   ]
  },
  {
   "cell_type": "code",
   "execution_count": null,
   "id": "3f6b6168",
   "metadata": {},
   "outputs": [],
   "source": [
    "# Period over which computing the trends\n",
    "date1=datetime.date(year=1901,month=1,day=1)\n",
    "date2=datetime.date(year=2021,month=12,day=31)\n",
    "dates=pd.date_range(start=date1, end=date2, freq='Y')\n",
    "dates.year"
   ]
  },
  {
   "cell_type": "markdown",
   "id": "68863723-7e8b-4599-9246-1980f1b0e78b",
   "metadata": {},
   "source": [
    "**Again, below, check the name of the variable!**"
   ]
  },
  {
   "cell_type": "code",
   "execution_count": null,
   "id": "60294dc1",
   "metadata": {},
   "outputs": [],
   "source": [
    "# Extract seasonal timeseries\n",
    "Temp=temp_HMA.tmp.sel(time=slice(date1,date2))"
   ]
  },
  {
   "cell_type": "markdown",
   "id": "c4d08916",
   "metadata": {},
   "source": [
    "**4.1 Check the trend and its level of significance in the location of your choice**"
   ]
  },
  {
   "cell_type": "code",
   "execution_count": null,
   "id": "b78ec4ff",
   "metadata": {},
   "outputs": [],
   "source": [
    "# location study\n",
    "lon_loc=87; lat_loc=28 # Everest location!!!\n",
    "#lon_loc2=72; lat_loc2=32"
   ]
  },
  {
   "cell_type": "code",
   "execution_count": null,
   "id": "8682485c",
   "metadata": {},
   "outputs": [],
   "source": [
    "# Extraction of the data at the point\n",
    "temp_loc=Temp.sel(lon=lon_loc, lat=lat_loc, method=\"nearest\")\n",
    "#temp_loc2=Temp.sel(lon=lon_loc2, lat=lat_loc2, method=\"nearest\")"
   ]
  },
  {
   "cell_type": "code",
   "execution_count": null,
   "id": "1aa873b1",
   "metadata": {},
   "outputs": [],
   "source": [
    "# Creating an empty array with the seasonal data\n",
    "seasonal_T_loc=np.empty(shape=(int(temp_loc.shape[0]/12),4), dtype=float)\n",
    "seasonal_T_loc.shape"
   ]
  },
  {
   "cell_type": "code",
   "execution_count": null,
   "id": "76eeb274",
   "metadata": {},
   "outputs": [],
   "source": [
    "# Seasonal spatial data\n",
    "seasonal_T_loc [:,0] = temp_loc.where(Temp['time.season'] == 'DJF').groupby('time.year').mean(dim='time')\n",
    "seasonal_T_loc [:,1] = temp_loc.where(Temp['time.season'] == 'MAM').groupby('time.year').mean(dim='time')\n",
    "seasonal_T_loc [:,2] = temp_loc.where(Temp['time.season'] == 'JJA').groupby('time.year').mean(dim='time')\n",
    "seasonal_T_loc [:,3] = temp_loc.where(Temp['time.season'] == 'SON').groupby('time.year').mean(dim='time')"
   ]
  },
  {
   "cell_type": "code",
   "execution_count": null,
   "id": "86b7bd3b",
   "metadata": {},
   "outputs": [],
   "source": [
    "# Computing trends\n",
    "slope_T_loc=np.full(seasonal_T_loc.shape[1:4],np.nan)\n",
    "pvalue_T_loc=np.full(seasonal_T_loc.shape[1:4],np.nan)\n",
    "intercept_T_loc=np.full(seasonal_T_loc.shape[1:4],np.nan)\n",
    "for season in range(4):\n",
    "    linregress_T_loc = stats.linregress(range(seasonal_T_loc.shape[0]-1), seasonal_T_loc[1:,season])\n",
    "    slope_T_loc[season] = linregress_T_loc.slope\n",
    "    intercept_T_loc[season] = linregress_T_loc.intercept\n",
    "    pvalue_T_loc[season] = linregress_T_loc.pvalue"
   ]
  },
  {
   "cell_type": "code",
   "execution_count": null,
   "id": "edb8abe7",
   "metadata": {},
   "outputs": [],
   "source": [
    "seasonal_T_loc.shape"
   ]
  },
  {
   "cell_type": "code",
   "execution_count": null,
   "id": "14cbdebd-3d51-4d90-a091-cdbc12d3b83d",
   "metadata": {},
   "outputs": [],
   "source": [
    "index=np.arange(0,dates.shape[0])\n",
    "index.shape"
   ]
  },
  {
   "cell_type": "code",
   "execution_count": null,
   "id": "86a34cf0",
   "metadata": {},
   "outputs": [],
   "source": [
    "#Plotting temperature timeseries\n",
    "f, axs = plot.subplots(ncols=2, nrows=2)\n",
    "for i, ax in enumerate(axs):\n",
    "    print('i='+str(i))\n",
    "    print('ax='+str(ax))\n",
    "    if pvalue_T_loc[i]<0.05:\n",
    "        signif='solid'\n",
    "    else:\n",
    "        signif='dashed'\n",
    "    m = ax.scatter(dates,seasonal_T_loc[:,i]-np.mean(seasonal_T_loc[:,i]))\n",
    "    m = ax.plot(dates,intercept_T_loc[i]+slope_T_loc[i]*index-np.mean(seasonal_T_loc[:,i]),linestyle=signif)\n",
    "    ax.format(title=f\"{seasonal_mean.season.data[i]} trend={slope_T_loc[i]*10:.2f}°C.decade-1; pvalue={pvalue_T_loc[i]:.2g}\",titlesize='12px')\n",
    "\n",
    "axs.format(\n",
    "    suptitle='Seasonal temperature at lon='+str(lon_loc)+' lat='+str(lat_loc),\n",
    "    xlabel='year',\n",
    "    ylabel='temperature anomaly'\n",
    ")"
   ]
  },
  {
   "cell_type": "markdown",
   "id": "e6dae2bc",
   "metadata": {},
   "source": [
    "**4.2. HMA trend maps**"
   ]
  },
  {
   "cell_type": "code",
   "execution_count": null,
   "id": "72dc28cc",
   "metadata": {},
   "outputs": [],
   "source": [
    "# Getting the total number of years\n",
    "int(Temp.shape[0]/12)"
   ]
  },
  {
   "cell_type": "code",
   "execution_count": null,
   "id": "a191018a",
   "metadata": {},
   "outputs": [],
   "source": [
    "# Creating an empty array with the total seasonal data\n",
    "seasonal_T=np.empty(shape=(int(Temp.shape[0]/12),4,Temp.shape[1],Temp.shape[2]), dtype=float)\n",
    "seasonal_T.shape"
   ]
  },
  {
   "cell_type": "code",
   "execution_count": null,
   "id": "12f97fbc",
   "metadata": {},
   "outputs": [],
   "source": [
    "Temp.where(Temp['time.season'] == 'DJF').groupby('time.year').mean(dim='time').shape"
   ]
  },
  {
   "cell_type": "code",
   "execution_count": null,
   "id": "5dbb34eb",
   "metadata": {},
   "outputs": [],
   "source": [
    "# Seasonal spatial data\n",
    "seasonal_T [:,0,:,:] = Temp.where(Temp['time.season'] == 'DJF').groupby('time.year').mean(dim='time')\n",
    "seasonal_T [:,1,:,:] = Temp.where(Temp['time.season'] == 'MAM').groupby('time.year').mean(dim='time')\n",
    "seasonal_T [:,2,:,:] = Temp.where(Temp['time.season'] == 'JJA').groupby('time.year').mean(dim='time')\n",
    "seasonal_T [:,3,:,:] = Temp.where(Temp['time.season'] == 'SON').groupby('time.year').mean(dim='time')"
   ]
  },
  {
   "cell_type": "code",
   "execution_count": null,
   "id": "334b02ae",
   "metadata": {},
   "outputs": [],
   "source": [
    "# Computing trends\n",
    "slope_T=np.full(seasonal_T.shape[1:4],np.nan)\n",
    "pvalue_T=np.full(seasonal_T.shape[1:4],np.nan)\n",
    "\n",
    "for lon in tqdm(range(seasonal_T.shape[3])):\n",
    "    for lat in range(seasonal_T.shape[2]):\n",
    "        for season in range(4):\n",
    "            linregress_T = stats.linregress(range(seasonal_T.shape[0]-1), seasonal_T[1:,season,lat,lon])\n",
    "            slope_T[season][lat][lon] = linregress_T.slope\n",
    "            pvalue_T[season][lat][lon] = linregress_T.pvalue"
   ]
  },
  {
   "cell_type": "code",
   "execution_count": null,
   "id": "7af5ccaf",
   "metadata": {},
   "outputs": [],
   "source": [
    "# Masking non-significative signals\n",
    "signif=np.where(pvalue_T<0.05,True,False)"
   ]
  },
  {
   "cell_type": "markdown",
   "id": "11d4b228-c4dc-440f-bdaf-97d7c2605346",
   "metadata": {},
   "source": [
    "**You might want to modify some features of the plot (levels, xlimit, title, etc...)**"
   ]
  },
  {
   "cell_type": "code",
   "execution_count": null,
   "id": "56959eac",
   "metadata": {},
   "outputs": [],
   "source": [
    "# Levels of temperature for the plot\n",
    "levels=plot.arange(-0.3,0.3,0.05)\n",
    "factor=10 # degree per decade"
   ]
  },
  {
   "cell_type": "code",
   "execution_count": null,
   "id": "bbffd821",
   "metadata": {},
   "outputs": [],
   "source": [
    "# Producing the map of the trends, excluding the borders of the domain.\n",
    "f, axs = plot.subplots(proj='cyl',ncols=2, nrows=2, share=1, axwidth=5)\n",
    "for i, ax in enumerate(axs):\n",
    "    print('i='+str(i))\n",
    "    print('ax='+str(ax))\n",
    "    m = ax.pcolormesh(\n",
    "        temp_HMA.lon,temp_HMA.lat,\n",
    "        slope_T[i,:,:]*factor,\n",
    "        levels=levels,\n",
    "        cmap='coolwarm'\n",
    "    )\n",
    "    ax.format(title=seasonal_mean.season.data[i],titlesize='20px')\n",
    "    \n",
    "    p = ax.contourf(\n",
    "    temp_HMA.lon,temp_HMA.lat,\n",
    "    signif[i,:,:],\n",
    "    hatches=[\"\", \".\"], alpha=0\n",
    "    )\n",
    "    \n",
    "f.colorbar(m, label= '°C.decade-1')\n",
    "\n",
    "axs.format(\n",
    "    gridlinewidth=0.1, gridcolor='gray8', gridalpha=0.5, labels=True, \n",
    "    coast=True, ocean=False, oceancolor='gray3', borders=True,\n",
    "    suptitle=\"Seasonal trend of temperature, CRU dataset over \"+str(date1)+\" - \"+str(date2),\n",
    "    lonlines=4, latlines=4, abc=False, latlim=[lat1,lat2],lonlim=[lon1,lon2]\n",
    ")"
   ]
  },
  {
   "cell_type": "markdown",
   "id": "ab1c603e",
   "metadata": {},
   "source": [
    "**Now, you can invent your own analysis, e.g:**\n",
    "* Computing trends where you want and over any period.\n",
    "* Computing trends as a function of the elevation using the topography in the file below.\n",
    "* Etc...\n"
   ]
  },
  {
   "cell_type": "code",
   "execution_count": null,
   "id": "4d1ab471",
   "metadata": {},
   "outputs": [],
   "source": [
    "# Topography at 0.25° (http://research.jisao.washington.edu/data_sets/elevation/)\n",
    "# -> 0.25-degree latitude-longitude resolution elevation (TBASE)\n",
    "#file_topo=\"elev.0.25-deg.nc\"\n",
    "file_topo=\"GMTED2010_15n060_0250deg.nc\"\n",
    "ds_topo = xr.open_dataset(os.path.join(path,file_topo))\n",
    "ds_topo # ds_topo as dataset"
   ]
  },
  {
   "cell_type": "code",
   "execution_count": null,
   "id": "d904f8f8",
   "metadata": {},
   "outputs": [],
   "source": [
    "# Extracting the data over HMA\n",
    "topo_HMA=ds_topo.sel(longitude=slice(lon1,lon2),latitude=slice(lat1,lat2))"
   ]
  },
  {
   "cell_type": "code",
   "execution_count": null,
   "id": "677dd74e-f1d0-4e52-bd2b-f07d0d5c16b8",
   "metadata": {},
   "outputs": [],
   "source": [
    "topo_HMA"
   ]
  },
  {
   "cell_type": "code",
   "execution_count": null,
   "id": "012c7f10",
   "metadata": {},
   "outputs": [],
   "source": [
    "# Quick plot\n",
    "fig, ax = plt.subplots()\n",
    "m=ax.pcolormesh(topo_HMA.longitude,topo_HMA.latitude,topo_HMA.elevation,shading='auto')\n",
    "fig.colorbar(m,label= 'm.asl')\n",
    "ax.set_title('Topography GMTED with a 0.25° resolution')"
   ]
  },
  {
   "cell_type": "code",
   "execution_count": null,
   "id": "435ddb2e",
   "metadata": {},
   "outputs": [],
   "source": [
    "# Interpolation of the orography data on the CRU grid\n",
    "ds_topo_HMA_out=topo_HMA.interp(latitude=temp_HMA.lat,longitude=temp_HMA.lon)"
   ]
  },
  {
   "cell_type": "code",
   "execution_count": null,
   "id": "1a82eb05",
   "metadata": {},
   "outputs": [],
   "source": [
    "# Quick plot\n",
    "fig, ax = plt.subplots()\n",
    "m=ax.pcolormesh(ds_topo_HMA_out.longitude,ds_topo_HMA_out.latitude,ds_topo_HMA_out.elevation)\n",
    "fig.colorbar(m,label= 'm.asl')\n",
    "ax.set_title('Topography GMTED interpolated on a 0.5° resolution')"
   ]
  },
  {
   "cell_type": "code",
   "execution_count": null,
   "id": "2e2962bd",
   "metadata": {},
   "outputs": [],
   "source": [
    "# Levels of temperature for the plot\n",
    "#levels=np.arange(-0.5,0.5,0.05)\n",
    "factor_trend=10 # degree per decade\n",
    "bins=100\n",
    "levels=np.logspace(0,1,25)"
   ]
  },
  {
   "cell_type": "code",
   "execution_count": null,
   "id": "cc64ca2a",
   "metadata": {},
   "outputs": [],
   "source": [
    "# We keep only the elevation area > limit m.asl\n",
    "limit=1000\n",
    "topo_high=ds_topo_HMA_out.elevation.where(ds_topo_HMA_out.elevation > limit)\n",
    "trends_high=np.zeros(slope_T.shape)\n",
    "for i in np.arange(4):\n",
    "    trends_high[i,:,:]=np.where(ds_topo_HMA_out.elevation > limit,slope_T[i,:,:],np.nan)"
   ]
  },
  {
   "cell_type": "markdown",
   "id": "97f43626-7b61-4e8c-8be8-de63d1cfee74",
   "metadata": {},
   "source": [
    "**You might want to modify some features of the plot (levels, xlimit, title, etc...)**"
   ]
  },
  {
   "cell_type": "code",
   "execution_count": null,
   "id": "d117c092",
   "metadata": {
    "lines_to_next_cell": 0
   },
   "outputs": [],
   "source": [
    "#Plotting trends as a function of elevation\n",
    "f, axs = plot.subplots(ncols=2, nrows=2,share=1)\n",
    "for i, ax in enumerate(axs):\n",
    "    print('i='+str(i))\n",
    "    print('ax='+str(ax))\n",
    "    m = ax.scatter(trends_high[i,:,:].flatten()*factor_trend,topo_high.values.flatten(),alpha=0.1)\n",
    "    ax.format(title=seasonal_mean.season.data[i],titlesize='15px',xlim=(-0.05,0.3))\n",
    "\n",
    "axs.format(\n",
    "    suptitle='Temperature trend as a function of the topography',\n",
    "    xlabel='trends (°C.decade-1)',\n",
    "    ylabel='Elevation (m. asl)',\n",
    "    titlesize='15px'\n",
    ")"
   ]
  },
  {
   "cell_type": "code",
   "execution_count": null,
   "id": "77362ae4",
   "metadata": {
    "lines_to_next_cell": 2
   },
   "outputs": [],
   "source": []
  },
  {
   "cell_type": "code",
   "execution_count": null,
   "id": "024d3da0-8c96-4fb8-8495-bde75302279d",
   "metadata": {},
   "outputs": [],
   "source": []
  }
 ],
 "metadata": {
  "jupytext": {
   "formats": "ipynb,py:light"
  },
  "kernelspec": {
   "display_name": "Python [conda env:HMA_env_2023] *",
   "language": "python",
   "name": "conda-env-HMA_env_2023-py"
  },
  "language_info": {
   "codemirror_mode": {
    "name": "ipython",
    "version": 3
   },
   "file_extension": ".py",
   "mimetype": "text/x-python",
   "name": "python",
   "nbconvert_exporter": "python",
   "pygments_lexer": "ipython3",
   "version": "3.10.13"
  }
 },
 "nbformat": 4,
 "nbformat_minor": 5
}
